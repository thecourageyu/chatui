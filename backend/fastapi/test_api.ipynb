{
 "cells": [
  {
   "cell_type": "code",
   "execution_count": 27,
   "metadata": {},
   "outputs": [],
   "source": [
    "import json\n",
    "import requests\n",
    "\n",
    "from fastapi import FastAPI, Response, Depends, HTTPException\n",
    "from fastapi.encoders import jsonable_encoder\n",
    "from fastapi.middleware.cors import CORSMiddleware\n",
    "from fastapi.responses import JSONResponse, StreamingResponse\n",
    "\n",
    "from pydantic import BaseModel\n",
    "\n",
    "import numpy as np"
   ]
  },
  {
   "cell_type": "code",
   "execution_count": 37,
   "metadata": {},
   "outputs": [],
   "source": [
    "BASE_URL = \"http://localhost:9191/tod/ebus/test\"\n",
    "# BASE_URL = \"http://10.72.39.43:23456/text/generate\"\n",
    "# BASE_URL = \"http://localhost:23456/text/generate\"\n",
    "\n",
    "\n",
    "class APIRequest(BaseModel):\n",
    "    history: str = \"empty\"\n",
    "    user_id: str = \"yzk\"\n",
    "    conversation_id: str = \"test_01\"\n",
    "    user_query: str = \"hello world!\"\n",
    "    message_id: int = 0\n",
    "    temperature: float = 0.2\n",
    "    max_new_tokens: int = 1024"
   ]
  },
  {
   "cell_type": "code",
   "execution_count": 38,
   "metadata": {},
   "outputs": [],
   "source": [
    "api_request = APIRequest()"
   ]
  },
  {
   "cell_type": "code",
   "execution_count": 39,
   "metadata": {},
   "outputs": [
    {
     "data": {
      "text/plain": [
       "'{\"history\":\"empty\",\"user_id\":\"yzk\",\"conversation_id\":\"test_01\",\"user_query\":\"hello world!\",\"message_id\":0,\"temperature\":0.2,\"max_new_tokens\":1024}'"
      ]
     },
     "execution_count": 39,
     "metadata": {},
     "output_type": "execute_result"
    }
   ],
   "source": [
    "api_request.json()"
   ]
  },
  {
   "cell_type": "code",
   "execution_count": 42,
   "metadata": {},
   "outputs": [],
   "source": [
    "result = requests.post(BASE_URL, data=api_request.json())"
   ]
  },
  {
   "cell_type": "code",
   "execution_count": 43,
   "metadata": {},
   "outputs": [
    {
     "name": "stdout",
     "output_type": "stream",
     "text": [
      "{'detail': [{'type': 'model_attributes_type', 'loc': ['body'], 'msg': 'Input should be a valid dictionary or object to extract fields from', 'input': '{\"history\":\"empty\",\"user_id\":\"yzk\",\"conversation_id\":\"test_01\",\"user_query\":\"hello world!\",\"message_id\":0,\"temperature\":0.2,\"max_new_tokens\":1024}'}]}\n"
     ]
    }
   ],
   "source": [
    "print(result.json())"
   ]
  },
  {
   "cell_type": "code",
   "execution_count": null,
   "metadata": {},
   "outputs": [],
   "source": []
  }
 ],
 "metadata": {
  "kernelspec": {
   "display_name": "yzk",
   "language": "python",
   "name": "python3"
  },
  "language_info": {
   "codemirror_mode": {
    "name": "ipython",
    "version": 3
   },
   "file_extension": ".py",
   "mimetype": "text/x-python",
   "name": "python",
   "nbconvert_exporter": "python",
   "pygments_lexer": "ipython3",
   "version": "3.10.14"
  }
 },
 "nbformat": 4,
 "nbformat_minor": 2
}
